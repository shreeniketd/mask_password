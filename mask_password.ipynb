{
 "cells": [
  {
   "cell_type": "code",
   "execution_count": 1,
   "metadata": {},
   "outputs": [],
   "source": [
    "import keyring\n",
    "import bcrypt"
   ]
  },
  {
   "cell_type": "code",
   "execution_count": 3,
   "metadata": {},
   "outputs": [
    {
     "name": "stdout",
     "output_type": "stream",
     "text": [
      "test_1\n"
     ]
    }
   ],
   "source": [
    "#Add a generic credential in Windows Credentials as mentioned below\n",
    "#Internet or network access: test1\n",
    "#Username: test_1\n",
    "password = keyring.get_password(\"test1\",\"test_1\")\n",
    "print(password)\n",
    "byte_password = str.encode(password)\n",
    "#print(byte_password)"
   ]
  },
  {
   "cell_type": "code",
   "execution_count": 4,
   "metadata": {},
   "outputs": [
    {
     "name": "stdout",
     "output_type": "stream",
     "text": [
      "b'$2b$12$iexpmicjSQSHTBfkRewYm.SBzgDeaXVO2.UyM1zu1MzJjO5nr34W6'\n"
     ]
    }
   ],
   "source": [
    "#Type 1 to mask password\n",
    "masked_password = bcrypt.hashpw(byte_password,bcrypt.gensalt())\n",
    "print(masked_password)"
   ]
  },
  {
   "cell_type": "code",
   "execution_count": 6,
   "metadata": {},
   "outputs": [
    {
     "name": "stdout",
     "output_type": "stream",
     "text": [
      "b'$2b$12$GWXnEes78aBDBMPRvetHiejP/pERz3JwI0nxX0MRQIG00NNYBDbvm'\n"
     ]
    }
   ],
   "source": [
    "#Roundabout\n",
    "masked_password_1 = bcrypt.hashpw(str.encode(keyring.get_password(\"test1\",\"test_1\")),bcrypt.gensalt())\n",
    "print(masked_password_1)"
   ]
  },
  {
   "cell_type": "code",
   "execution_count": 7,
   "metadata": {},
   "outputs": [
    {
     "name": "stdout",
     "output_type": "stream",
     "text": [
      "Password matched\n"
     ]
    }
   ],
   "source": [
    "if bcrypt.checkpw(byte_password,masked_password):\n",
    "    print(\"Password matched\")\n",
    "else:\n",
    "    print(\"Password does not match!\")"
   ]
  },
  {
   "cell_type": "code",
   "execution_count": 10,
   "metadata": {},
   "outputs": [
    {
     "name": "stdout",
     "output_type": "stream",
     "text": [
      "Masked Password:  b'gAAAAABgEwJB7jJSiIpsj2NFyyd9vJey-VnCTuzsAkSvDAYEq4heg-hy9buYj7eN3j2m2ugp1p7qAX9GyLTOPrd-RdfwcvY7Ng=='\n",
      "Unmasked Encoded Password:  b'test_1'\n",
      "Original Password:  test_1\n"
     ]
    }
   ],
   "source": [
    "#Type 2 to mask password\n",
    "#print( password)\n",
    "from cryptography.fernet import Fernet\n",
    "key = Fernet.generate_key()\n",
    "f = Fernet(key)\n",
    "token = f.encrypt(byte_password)\n",
    "\n",
    "print(\"Masked Password: \", token)\n",
    "\n",
    "d = f.decrypt(token)\n",
    "print(\"Unmasked Encoded Password: \", d)\n",
    "\n",
    "decoded_password = byte_password.decode('utf8', 'strict')\n",
    "print(\"Original Password: \", decoded_password)"
   ]
  }
 ],
 "metadata": {
  "kernelspec": {
   "display_name": "Python 3",
   "language": "python",
   "name": "python3"
  },
  "language_info": {
   "codemirror_mode": {
    "name": "ipython",
    "version": 3
   },
   "file_extension": ".py",
   "mimetype": "text/x-python",
   "name": "python",
   "nbconvert_exporter": "python",
   "pygments_lexer": "ipython3",
   "version": "3.7.3"
  }
 },
 "nbformat": 4,
 "nbformat_minor": 2
}
