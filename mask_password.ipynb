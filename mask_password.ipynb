{
 "cells": [
  {
   "cell_type": "code",
   "execution_count": 18,
   "metadata": {},
   "outputs": [],
   "source": [
    "import keyring\n",
    "import bcrypt"
   ]
  },
  {
   "cell_type": "code",
   "execution_count": 19,
   "metadata": {},
   "outputs": [
    {
     "name": "stdout",
     "output_type": "stream",
     "text": [
      "test_1\n"
     ]
    }
   ],
   "source": [
    "#Add a generic credential in Windows Credentials as mentioned below\n",
    "#Internet or network access: test\n",
    "#Username: test_1\n",
    "password = keyring.get_password(\"test1\",\"test_1\")\n",
    "print(password)\n",
    "byte_password = str.encode(password)\n",
    "#print(byte_password)"
   ]
  },
  {
   "cell_type": "code",
   "execution_count": 20,
   "metadata": {},
   "outputs": [
    {
     "name": "stdout",
     "output_type": "stream",
     "text": [
      "b'$2b$12$QYS5JHs.FXwCJszFBBJKVOufw7rJ0c/tz9fQ4qIEVPuroI5SM5V8K'\n"
     ]
    }
   ],
   "source": [
    "#Type 1 to mask password\n",
    "masked_password = bcrypt.hashpw(byte_password,bcrypt.gensalt())\n",
    "print(masked_password)"
   ]
  },
  {
   "cell_type": "code",
   "execution_count": 21,
   "metadata": {},
   "outputs": [
    {
     "name": "stdout",
     "output_type": "stream",
     "text": [
      "b'$2b$12$.L7fHEvLivSWCp.uzb7pF.Www33M5/AVeeHL6/fr/kf0rUL.qKVYG'\n"
     ]
    }
   ],
   "source": [
    "#Roundabout\n",
    "masked_password_1 = bcrypt.hashpw(str.encode(keyring.get_password(\"test1\",\"test_1\")),bcrypt.gensalt())\n",
    "print(masked_password_1)"
   ]
  },
  {
   "cell_type": "code",
   "execution_count": 22,
   "metadata": {},
   "outputs": [
    {
     "name": "stdout",
     "output_type": "stream",
     "text": [
      "Password matched\n"
     ]
    }
   ],
   "source": [
    "if bcrypt.checkpw(byte_password,masked_password):\n",
    "    print(\"Password matched\")\n",
    "else:\n",
    "    print(\"Password does not match!\")"
   ]
  },
  {
   "cell_type": "code",
   "execution_count": 23,
   "metadata": {},
   "outputs": [
    {
     "name": "stdout",
     "output_type": "stream",
     "text": [
      "Masked Password:  b'gAAAAABgEwVYAYg8p0WJehwCgR1vUS5q3G2xavOVdMyR1FJO9HZFeowwga0JrBFZHQjVrkXB6yZS6Cmiz8qV242AQVH2x3cp3w=='\n",
      "Unmasked Encoded Password:  b'test_1'\n",
      "Original Password:  test_1\n"
     ]
    }
   ],
   "source": [
    "#Type 2 to mask password\n",
    "#print( password)\n",
    "from cryptography.fernet import Fernet\n",
    "key = Fernet.generate_key()\n",
    "f = Fernet(key)\n",
    "token = f.encrypt(byte_password)\n",
    "\n",
    "print(\"Masked Password: \", token)\n",
    "\n",
    "d = f.decrypt(token)\n",
    "print(\"Unmasked Encoded Password: \", d)\n",
    "\n",
    "decoded_password = byte_password.decode('utf8', 'strict')\n",
    "print(\"Original Password: \", decoded_password)"
   ]
  },
  {
   "cell_type": "code",
   "execution_count": null,
   "metadata": {},
   "outputs": [],
   "source": []
  }
 ],
 "metadata": {
  "kernelspec": {
   "display_name": "Python 3",
   "language": "python",
   "name": "python3"
  },
  "language_info": {
   "codemirror_mode": {
    "name": "ipython",
    "version": 3
   },
   "file_extension": ".py",
   "mimetype": "text/x-python",
   "name": "python",
   "nbconvert_exporter": "python",
   "pygments_lexer": "ipython3",
   "version": "3.7.3"
  }
 },
 "nbformat": 4,
 "nbformat_minor": 2
}
